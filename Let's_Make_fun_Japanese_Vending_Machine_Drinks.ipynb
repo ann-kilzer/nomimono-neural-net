{
  "nbformat": 4,
  "nbformat_minor": 0,
  "metadata": {
    "colab": {
      "name": "Let's Make fun Japanese Vending Machine Drinks",
      "provenance": [],
      "authorship_tag": "ABX9TyPb0wrBBiE4bn12/UvgFZ0B",
      "include_colab_link": true
    },
    "kernelspec": {
      "name": "python3",
      "display_name": "Python 3"
    },
    "language_info": {
      "name": "python"
    }
  },
  "cells": [
    {
      "cell_type": "markdown",
      "metadata": {
        "id": "view-in-github",
        "colab_type": "text"
      },
      "source": [
        "<a href=\"https://colab.research.google.com/github/ann-kilzer/nomimono-neural-net/blob/main/Let's_Make_fun_Japanese_Vending_Machine_Drinks.ipynb\" target=\"_parent\"><img src=\"https://colab.research.google.com/assets/colab-badge.svg\" alt=\"Open In Colab\"/></a>"
      ]
    },
    {
      "cell_type": "code",
      "source": [
        "from google.colab import auth\n",
        "auth.authenticate_user()\n",
        "\n",
        "import gspread\n",
        "from google.auth import default\n",
        "creds, _ = default()\n",
        "\n",
        "gc = gspread.authorize(creds)"
      ],
      "metadata": {
        "id": "Im3QIBgKzSh6"
      },
      "execution_count": 10,
      "outputs": []
    },
    {
      "cell_type": "code",
      "source": [
        "worksheet = gc.open('vending-machine-names').sheet1\n",
        "\n",
        "cell_list = worksheet.range('B2:B246')\n",
        "\n",
        "data = []\n",
        "\n",
        "for cell in cell_list:\n",
        "  data.append(cell.value)"
      ],
      "metadata": {
        "id": "_zOrDzhVzcZw"
      },
      "execution_count": 15,
      "outputs": []
    }
  ]
}